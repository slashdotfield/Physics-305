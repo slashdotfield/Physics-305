{
 "cells": [
  {
   "cell_type": "code",
   "execution_count": 1,
   "id": "50c80b7d",
   "metadata": {},
   "outputs": [],
   "source": [
    "import os\n",
    "import sys\n",
    "\n",
    "#add parent path to system path\n",
    "par_path = os.path.abspath(os.path.join('..'))\n",
    "if par_path not in sys.path:\n",
    "    sys.path.append(par_path)\n",
    "    \n",
    "data_path = os.path.join(par_path,'data')"
   ]
  },
  {
   "cell_type": "code",
   "execution_count": 2,
   "id": "84080c55",
   "metadata": {},
   "outputs": [],
   "source": [
    "import numpy as np\n",
    "import numpy.linalg as la\n",
    "import matplotlib.pyplot as plt\n",
    "import time"
   ]
  }
 ],
 "metadata": {
  "kernelspec": {
   "display_name": "Python 3 (ipykernel)",
   "language": "python",
   "name": "python3"
  },
  "language_info": {
   "codemirror_mode": {
    "name": "ipython",
    "version": 3
   },
   "file_extension": ".py",
   "mimetype": "text/x-python",
   "name": "python",
   "nbconvert_exporter": "python",
   "pygments_lexer": "ipython3",
   "version": "3.8.11"
  }
 },
 "nbformat": 4,
 "nbformat_minor": 5
}

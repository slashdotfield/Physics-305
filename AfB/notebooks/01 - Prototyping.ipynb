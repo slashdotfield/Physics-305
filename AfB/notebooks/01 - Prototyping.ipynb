{
 "cells": [
  {
   "cell_type": "code",
   "execution_count": 1,
   "id": "50c80b7d",
   "metadata": {},
   "outputs": [],
   "source": [
    "import os\n",
    "import sys\n",
    "\n",
    "#add parent path to system path\n",
    "par_path = os.path.abspath(os.path.join('..'))\n",
    "if par_path not in sys.path:\n",
    "    sys.path.append(par_path)\n",
    "    \n",
    "data_path = os.path.join(par_path,'data')"
   ]
  },
  {
   "cell_type": "code",
   "execution_count": 2,
   "id": "84080c55",
   "metadata": {},
   "outputs": [],
   "source": [
    "import numpy as np\n",
    "import numpy.linalg as la\n",
    "import matplotlib.pyplot as plt\n",
    "import numpy.random as rd\n",
    "import time"
   ]
  },
  {
   "cell_type": "markdown",
   "id": "b422f8b3",
   "metadata": {},
   "source": [
    "# <center> Agent-based model </center>\n",
    "\n",
    "Here, we shall look at the interaction table of the binary agreement model. Two agents are selected, one with a speaker role and the other with a listener role. The speaker selects an opinion from their portfolio, and shares it to the listener. If they both have that opinion, they both end up having that opinion exclusively. Otherwise, the opinion is added to the portfolio of the listener.\n",
    "\n",
    "\n",
    "|    Before interaction    | After interaction |\n",
    "|:------------------------:|:-----------------:|\n",
    "|  $A \\overset{A}{\\to} A$  |      $A - A$      |\n",
    "|  $A \\overset{A}{\\to} B$  |      $A - AB$     |\n",
    "|  $A \\overset{A}{\\to} AB$ |      $A - A$      |\n",
    "|  $B \\overset{B}{\\to} A$  |      $B - AB$     |\n",
    "|  $B \\overset{B}{\\to} B$  |      $B - B$      |\n",
    "|  $B \\overset{B}{\\to} AB$ |      $B - B$      |\n",
    "|  $AB \\overset{A}{\\to} A$ |      $A - A$      |\n",
    "|  $AB \\overset{A}{\\to} B$ |     $AB - AB$     |\n",
    "| $AB \\overset{A}{\\to} AB$ |      $A - A$      |\n",
    "|  $AB \\overset{B}{\\to} A$ |     $AB - AB$     |\n",
    "|  $AB \\overset{B}{\\to} B$ |      $B - B$      |\n",
    "| $AB \\overset{B}{\\to} AB$ |      $B - B$      |\n",
    "\n",
    "There is a third type of agent - the committed agent. They act like agents with opinion $A$, but do not add opinion $B$ into their portfolio if the speaker shares such an opinion.\n",
    "\n",
    "In the following code, we shall assume a complete graph."
   ]
  },
  {
   "cell_type": "code",
   "execution_count": 3,
   "id": "bd8ae121",
   "metadata": {},
   "outputs": [],
   "source": [
    "def exchange(pop, tot):\n",
    "    \"\"\"\n",
    "    Assumes that pop = [B,AB,A,AA] (pop must be numpy array) and tot = sum(pop)\n",
    "    \n",
    "    Two integers a drawn from [0,tot-1], representing the speaker and listener.\n",
    "    The corresponding transformation of the populations are effected.\n",
    "    \"\"\"\n",
    "    \n",
    "    speaker,listener = rd.randint(tot,size=2)\n",
    "    \n",
    "    #get types\n",
    "    agents = ['B','AB','A','AA']\n",
    "    subtotal = 0\n",
    "    for i in range(4):\n",
    "        if pop[i] > 0:\n",
    "            subtotal += pop[i]\n",
    "            if speaker < subtotal:\n",
    "                speakertype = agents[i]\n",
    "                break\n",
    "    subtotal = 0\n",
    "    for i in range(4):\n",
    "        if pop[i] > 0:\n",
    "            subtotal += pop[i]\n",
    "            if listener < subtotal:\n",
    "                listenertype = agents[i]\n",
    "                break\n",
    "    if speakertype == listenertype:\n",
    "        return pop\n",
    "\n",
    "    if speakertype == 'B':\n",
    "        if listenertype == 'AB':\n",
    "            return pop + [1,-1,0,0]\n",
    "        if listenertype == 'A':\n",
    "            return pop + [0,1,-1,0]\n",
    "        return pop\n",
    "\n",
    "    if speakertype == 'AB':\n",
    "        if listenertype == 'B':\n",
    "            if rd.randint(2): # AB opinion is A\n",
    "                return pop + [-1,1,0,0]\n",
    "            else: # AB opinion is B\n",
    "                return pop + [1,-1,0,0]\n",
    "        if listenertype == 'AB':\n",
    "            if rd.randint(2): #AB opinion is A\n",
    "                return pop + [0,-2,2,0]\n",
    "            else: #AB opinion is B\n",
    "                return pop + [2,-2,0,0]\n",
    "        if listenertype == 'A':\n",
    "            if rd.randint(2): #AB opinion is A\n",
    "                return pop + [0,-1,1,0]\n",
    "            else: # AB opinion is B\n",
    "                return pop + [0,1,-1,0]\n",
    "        if listenertype == 'AA':\n",
    "            if rd.randint(2): #AB opinion is A\n",
    "                return pop + [0,-1,1,0]\n",
    "        return pop\n",
    "    \n",
    "    ## all that is left is A or AA\n",
    "    if listenertype == 'B':\n",
    "        return pop + [-1,1,0,0]\n",
    "    if listenertype == 'AB':\n",
    "        return pop + [0,-1,1,0]\n",
    "    return pop"
   ]
  },
  {
   "cell_type": "markdown",
   "id": "6c964d20",
   "metadata": {},
   "source": [
    "Let's test the code with a sample calculation near the critical point"
   ]
  },
  {
   "cell_type": "code",
   "execution_count": 14,
   "id": "5fd45269",
   "metadata": {},
   "outputs": [],
   "source": [
    "tot = 6_00\n",
    "p = 0.095\n",
    "AA = int(p*tot)\n",
    "pop = np.array([tot - AA,0,0,AA])\n",
    "Bsum = 0\n",
    "B_hist = [pop[0]/tot]\n",
    "Bsum += B_hist[-1]\n",
    "Bave_hist = [Bsum]\n",
    "\n",
    "T = 1_000_000\n",
    "for k in range(T):\n",
    "    pop=exchange(pop,tot)\n",
    "    B_hist.append(pop[0]/tot)\n",
    "    Bsum += B_hist[-1]\n",
    "    Bave_hist.append(Bsum/(k+2))"
   ]
  },
  {
   "cell_type": "code",
   "execution_count": 15,
   "id": "96455c5a",
   "metadata": {},
   "outputs": [
    {
     "data": {
      "image/png": "[encoded data removed]",
      "text/plain": [
       "<Figure size 432x288 with 1 Axes>"
      ]
     },
     "metadata": {
      "needs_background": "light"
     },
     "output_type": "display_data"
    },
    {
     "name": "stdout",
     "output_type": "stream",
     "text": [
      "Average value of n_B is 0.7528695587971694\n"
     ]
    },
    {
     "data": {
      "image/png": "[encoded data removed]",
      "text/plain": [
       "<Figure size 432x288 with 1 Axes>"
      ]
     },
     "metadata": {
      "needs_background": "light"
     },
     "output_type": "display_data"
    }
   ],
   "source": [
    "plt.plot(B_hist)\n",
    "plt.show()\n",
    "plt.plot(Bave_hist)\n",
    "print(f'Average value of n_B is {sum(B_hist)/len(B_hist)}')"
   ]
  },
  {
   "cell_type": "code",
   "execution_count": 22,
   "id": "96244d7c",
   "metadata": {},
   "outputs": [],
   "source": [
    "tot = 6_00\n",
    "p = 0.100\n",
    "AA = int(p*tot)\n",
    "pop = np.array([tot - AA,0,0,AA])\n",
    "Bsum = 0\n",
    "B_hist = [pop[0]/tot]\n",
    "Bsum += B_hist[-1]\n",
    "Bave_hist = [Bsum]\n",
    "\n",
    "T = 10_000_000\n",
    "for k in range(T):\n",
    "    pop=exchange(pop,tot)\n",
    "    B_hist.append(pop[0]/tot)\n",
    "    Bsum += B_hist[-1]\n",
    "    Bave_hist.append(Bsum/(k+2))"
   ]
  },
  {
   "cell_type": "code",
   "execution_count": 23,
   "id": "40025f2b",
   "metadata": {},
   "outputs": [
    {
     "data": {
      "image/png": "[encoded data removed]",
      "text/plain": [
       "<Figure size 432x288 with 1 Axes>"
      ]
     },
     "metadata": {
      "needs_background": "light"
     },
     "output_type": "display_data"
    },
    {
     "data": {
      "text/plain": [
       "[<matplotlib.lines.Line2D at 0x7fc167408be0>]"
      ]
     },
     "execution_count": 23,
     "metadata": {},
     "output_type": "execute_result"
    },
    {
     "data": {
      "image/png": "[encoded data removed]",
      "text/plain": [
       "<Figure size 432x288 with 1 Axes>"
      ]
     },
     "metadata": {
      "needs_background": "light"
     },
     "output_type": "display_data"
    }
   ],
   "source": [
    "plt.plot(B_hist)\n",
    "plt.show()\n",
    "plt.plot(Bave_hist)"
   ]
  },
  {
   "cell_type": "markdown",
   "id": "13257b7f",
   "metadata": {},
   "source": [
    "# <center> Calculating the stable fixed point </center>"
   ]
  },
  {
   "cell_type": "code",
   "execution_count": null,
   "id": "6da677ea",
   "metadata": {},
   "outputs": [],
   "source": [
    "p = 0.08\n",
    "r = (1 + p/2)/(np.sqrt(2-p/2)**3)\n",
    "t2 = 8/(9*np.sqrt(3)) + r/6 + np.sqrt(17/81 - 8*r/(9*np.sqrt(3)) - r**2/12)\n",
    "print(t2**2 * (4-p)/2)"
   ]
  },
  {
   "cell_type": "code",
   "execution_count": null,
   "id": "6182ff85",
   "metadata": {},
   "outputs": [],
   "source": [
    "r"
   ]
  },
  {
   "cell_type": "code",
   "execution_count": null,
   "id": "df18cdf8",
   "metadata": {},
   "outputs": [],
   "source": [
    "2/(3*np.sqrt(3))"
   ]
  },
  {
   "cell_type": "code",
   "execution_count": null,
   "id": "c92e407c",
   "metadata": {},
   "outputs": [],
   "source": [
    "17/81 - 8*r/(9*np.sqrt(3)) - r**2/12"
   ]
  },
  {
   "cell_type": "code",
   "execution_count": null,
   "id": "c82f7f3f",
   "metadata": {},
   "outputs": [],
   "source": [
    "1/(2*np.sqrt(2))"
   ]
  },
  {
   "cell_type": "code",
   "execution_count": null,
   "id": "0c92197b",
   "metadata": {},
   "outputs": [],
   "source": []
  }
 ],
 "metadata": {
  "kernelspec": {
   "display_name": "Python 3 (ipykernel)",
   "language": "python",
   "name": "python3"
  },
  "language_info": {
   "codemirror_mode": {
    "name": "ipython",
    "version": 3
   },
   "file_extension": ".py",
   "mimetype": "text/x-python",
   "name": "python",
   "nbconvert_exporter": "python",
   "pygments_lexer": "ipython3",
   "version": "3.8.11"
  }
 },
 "nbformat": 4,
 "nbformat_minor": 5
}

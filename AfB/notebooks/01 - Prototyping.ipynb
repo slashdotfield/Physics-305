{
 "cells": [
  {
   "cell_type": "code",
   "execution_count": 1,
   "id": "50c80b7d",
   "metadata": {},
   "outputs": [],
   "source": [
    "import os\n",
    "import sys\n",
    "\n",
    "#add parent path to system path\n",
    "par_path = os.path.abspath(os.path.join('..'))\n",
    "if par_path not in sys.path:\n",
    "    sys.path.append(par_path)\n",
    "    \n",
    "data_path = os.path.join(par_path,'data')"
   ]
  },
  {
   "cell_type": "code",
   "execution_count": 2,
   "id": "84080c55",
   "metadata": {},
   "outputs": [],
   "source": [
    "import numpy as np\n",
    "import numpy.linalg as la\n",
    "import matplotlib.pyplot as plt\n",
    "import numpy.random as rd\n",
    "import scipy.optimize as opt\n",
    "import time"
   ]
  },
  {
   "cell_type": "markdown",
   "id": "b422f8b3",
   "metadata": {},
   "source": [
    "# <center> Agent-based model </center>\n",
    "\n",
    "Here, we shall look at the interaction table of the binary agreement model. Two agents are selected, one with a speaker role and the other with a listener role. The speaker selects an opinion from their portfolio, and shares it to the listener. If they both have that opinion, they both end up having that opinion exclusively. Otherwise, the opinion is added to the portfolio of the listener.\n",
    "\n",
    "\\begin{equation}\n",
    "\\begin{array}{cc}\n",
    "\\textrm{Before interaction} & \\textrm{After interaction} \\\\\n",
    "A \\overset{A}{\\to} A & A - A \\\\\n",
    "A \\overset{A}{\\to} B & A - AB \\\\\n",
    "A \\overset{A}{\\to} AB & A - A \\\\\n",
    "B \\overset{B}{\\to} A & B - AB \\\\\n",
    "B \\overset{B}{\\to} B & B - B \\\\\n",
    "B \\overset{B}{\\to} AB & B - B \\\\\n",
    "AB \\overset{A}{\\to} A & A - A \\\\\n",
    "AB \\overset{A}{\\to} B & AB - AB \\\\\n",
    "AB \\overset{A}{\\to} AB & A - A \\\\\n",
    "AB \\overset{B}{\\to} A & AB - AB \\\\\n",
    "AB \\overset{B}{\\to} B & B - B \\\\\n",
    "AB \\overset{B}{\\to} AB & B - B\n",
    "\\end{array}\n",
    "\\end{equation}\n",
    "\n",
    "There is a third type of agent - the committed agent. They act like agents with opinion $A$, but do not add opinion $B$ into their portfolio if the speaker shares such an opinion.\n",
    "\n",
    "In the following code, we shall assume a complete graph."
   ]
  },
  {
   "cell_type": "code",
   "execution_count": 107,
   "id": "bd8ae121",
   "metadata": {},
   "outputs": [],
   "source": [
    "def exchange(pop, tot):\n",
    "    \"\"\"\n",
    "    Assumes that pop = [B,AB,A,AA] (pop must be numpy array) and tot = sum(pop)\n",
    "    \n",
    "    Two integers a drawn from [0,tot-1], representing the speaker and listener.\n",
    "    The corresponding transformation of the populations are effected.\n",
    "    \"\"\"\n",
    "    \n",
    "    speaker,listener = rd.randint(tot,size=2)\n",
    "    \n",
    "    #get types\n",
    "    agents = ['B','AB','A','AA']\n",
    "    subtotal = 0\n",
    "    for i in range(4):\n",
    "        if pop[i] > 0:\n",
    "            subtotal += pop[i]\n",
    "            if speaker < subtotal:\n",
    "                speakertype = agents[i]\n",
    "                break\n",
    "    subtotal = 0\n",
    "    for i in range(4):\n",
    "        if pop[i] > 0:\n",
    "            subtotal += pop[i]\n",
    "            if listener < subtotal:\n",
    "                listenertype = agents[i]\n",
    "                break\n",
    "    if speakertype == listenertype:\n",
    "        if speakertype != 'AB' or pop[1] < 2:\n",
    "            return pop\n",
    "\n",
    "    if speakertype == 'B':\n",
    "        if listenertype == 'AB':\n",
    "            return pop + [1,-1,0,0]\n",
    "        if listenertype == 'A':\n",
    "            return pop + [0,1,-1,0]\n",
    "        return pop\n",
    "\n",
    "    if speakertype == 'AB':\n",
    "        if listenertype == 'B':\n",
    "            if rd.randint(2): # AB opinion is A\n",
    "                return pop + [-1,1,0,0]\n",
    "            else: # AB opinion is B\n",
    "                return pop + [1,-1,0,0]\n",
    "        if listenertype == 'AB':\n",
    "            if rd.randint(2): #AB opinion is A\n",
    "                return pop + [0,-2,2,0]\n",
    "            else: #AB opinion is B\n",
    "                return pop + [2,-2,0,0]\n",
    "        if listenertype == 'A':\n",
    "            if rd.randint(2): #AB opinion is A\n",
    "                return pop + [0,-1,1,0]\n",
    "            else: # AB opinion is B\n",
    "                return pop + [0,1,-1,0]\n",
    "        if listenertype == 'AA':\n",
    "            if rd.randint(2): #AB opinion is A\n",
    "                return pop + [0,-1,1,0]\n",
    "        return pop\n",
    "    \n",
    "    ## all that is left is A or AA\n",
    "    if listenertype == 'B':\n",
    "        return pop + [-1,1,0,0]\n",
    "    if listenertype == 'AB':\n",
    "        return pop + [0,-1,1,0]\n",
    "    return pop"
   ]
  },
  {
   "cell_type": "markdown",
   "id": "6c964d20",
   "metadata": {},
   "source": [
    "Let's test the code with a sample calculation near a critical point"
   ]
  },
  {
   "cell_type": "code",
   "execution_count": 120,
   "id": "5fd45269",
   "metadata": {},
   "outputs": [],
   "source": [
    "tot = 1_000\n",
    "p = 0.090\n",
    "AA = int(p*tot)\n",
    "pop = np.array([tot - AA,0,0,AA])   \n",
    "\n",
    "Bsum = 0\n",
    "B_hist = [pop[0]/tot]\n",
    "Bsum += B_hist[-1]\n",
    "Bave_hist = [Bsum]\n",
    "\n",
    "T = 1_000_000\n",
    "for k in range(T):\n",
    "    pop=exchange(pop,tot)\n",
    "    B_hist.append(pop[0]/tot)\n",
    "    Bsum += B_hist[-1]\n",
    "    Bave_hist.append(Bsum/(k+2))"
   ]
  },
  {
   "cell_type": "code",
   "execution_count": 121,
   "id": "96455c5a",
   "metadata": {},
   "outputs": [
    {
     "data": {
      "image/png": "[encoded data removed]",
      "text/plain": [
       "<Figure size 432x288 with 1 Axes>"
      ]
     },
     "metadata": {
      "needs_background": "light"
     },
     "output_type": "display_data"
    },
    {
     "name": "stdout",
     "output_type": "stream",
     "text": [
      "Average value of n_B is 0.7306800973199141\n"
     ]
    },
    {
     "data": {
      "image/png": "[encoded data removed]",
      "text/plain": [
       "<Figure size 432x288 with 1 Axes>"
      ]
     },
     "metadata": {
      "needs_background": "light"
     },
     "output_type": "display_data"
    }
   ],
   "source": [
    "plt.plot(B_hist)\n",
    "plt.show()\n",
    "plt.plot(Bave_hist)\n",
    "print(f'Average value of n_B is {sum(B_hist)/len(B_hist)}')"
   ]
  },
  {
   "cell_type": "code",
   "execution_count": 66,
   "id": "96244d7c",
   "metadata": {},
   "outputs": [],
   "source": [
    "tot = 1_000\n",
    "p = 0.100\n",
    "AA = int(p*tot)\n",
    "pop = np.array([tot - AA,0,0,AA])   \n",
    "\n",
    "Bsum = 0\n",
    "B_hist = [pop[0]/tot]\n",
    "Bsum += B_hist[-1]\n",
    "Bave_hist = [Bsum]\n",
    "\n",
    "T = 1_000_000\n",
    "for k in range(T):\n",
    "    pop=exchange(pop,tot)\n",
    "    B_hist.append(pop[0]/tot)\n",
    "    Bsum += B_hist[-1]\n",
    "    Bave_hist.append(Bsum/(k+2))"
   ]
  },
  {
   "cell_type": "code",
   "execution_count": 67,
   "id": "40025f2b",
   "metadata": {},
   "outputs": [
    {
     "data": {
      "image/png": "[encoded data removed]",
      "text/plain": [
       "<Figure size 432x288 with 1 Axes>"
      ]
     },
     "metadata": {
      "needs_background": "light"
     },
     "output_type": "display_data"
    },
    {
     "data": {
      "text/plain": [
       "[<matplotlib.lines.Line2D at 0x7fb3fd023970>]"
      ]
     },
     "execution_count": 67,
     "metadata": {},
     "output_type": "execute_result"
    },
    {
     "data": {
      "image/png": "[encoded data removed]",
      "text/plain": [
       "<Figure size 432x288 with 1 Axes>"
      ]
     },
     "metadata": {
      "needs_background": "light"
     },
     "output_type": "display_data"
    }
   ],
   "source": [
    "plt.plot(B_hist)\n",
    "plt.show()\n",
    "plt.plot(Bave_hist)"
   ]
  },
  {
   "cell_type": "markdown",
   "id": "13257b7f",
   "metadata": {},
   "source": [
    "# <center> Calculating the stable fixed point </center>\n",
    "\n",
    "In the infinite network size limit and for complete graphs, the evolution of the probability densities $n_A$ and $n_B$ for agents $A$ and $B$ respectively is given by\n",
    "\\begin{eqnarray}\n",
    "\\dfrac{dn_A}{dt} &=& - n_A n_B + n_{AB}^2 + n_{AB} n_A + \\dfrac{3}{2} p n_{AB} \\\\\n",
    "\\dfrac{dn_B}{dt} &=& - n_A n_B + n_{AB}^2 + n_{AB} n_B - p n_B\n",
    "\\end{eqnarray}\n",
    "where $n_{AB} = 1 - p - n_A - n_B$ and $p$ is the number density of committed agents.\n",
    "\n",
    "The fixed points of this dynamical system is given by stationary points,\n",
    "\\begin{equation}\n",
    "\\dfrac{dn_A}{dt} = 0, \\qquad \\dfrac{dn_B}{dt} = 0\n",
    "\\end{equation}\n",
    "\n",
    "There are at most three relevant roots: when all opinions agree with the committed minority, and a pair of stable and unstable fixed points. It is this stable fixed point which we wish to calculate.\n",
    "\n",
    "The paper has given an approximation for the root,\n",
    "\\begin{equation}\n",
    "n_B = t^2 \\dfrac{4 - p}{2}, \\qquad n_A = \\dfrac{(4 - n_B - p)^2 - 9 p^2}{8p + 16}\n",
    "\\end{equation}\n",
    "where\n",
    "\\begin{equation}\n",
    "t = \\dfrac{8}{9\\sqrt{3}} + \\dfrac{r}{6} + \\sqrt{\\dfrac{17}{81} - \\dfrac{8r}{9\\sqrt{3}} - \\dfrac{r^2}{12}}\n",
    "\\end{equation}\n",
    "and\n",
    "\\begin{equation}\n",
    "r = \\dfrac{1 + p/2}{(2 - p/2)^{3/2}}.\n",
    "\\end{equation}\n",
    "We may use this expressions as a starting point for a secant method to find the stable fixed point.\n",
    "\n",
    "The stable fixed point exists so long as\n",
    "\\begin{equation}\n",
    "p < p_c, \\qquad p_c = \\dfrac{5}{2} - \\dfrac{3}{2} \\left( \\sqrt[3]{5 + \\sqrt{24}} - 1 \\right)^2 - \\dfrac{3}{2} \\left( \\sqrt[3]{5 - \\sqrt{24}} - 1 \\right)^2 \n",
    "\\end{equation}"
   ]
  },
  {
   "cell_type": "code",
   "execution_count": 71,
   "id": "6da677ea",
   "metadata": {},
   "outputs": [],
   "source": [
    "def get_stable_fp(p):\n",
    "    \"\"\"\n",
    "    Calculates the stable fixed point (n_A, n_B).\n",
    "    \n",
    "    If the value of p is greater than p_c, then it returns\n",
    "    (None, None)\n",
    "    \"\"\"\n",
    "    \n",
    "    def f(pop):\n",
    "        n_AB = 1 - p - pop[0] - pop[1]\n",
    "        \n",
    "        dn_Adt = -pop[0]*pop[1] + n_AB**2 + n_AB*pop[0] + 3/2*p * n_AB\n",
    "        dn_Bdt = -pop[0]*pop[1] + n_AB**2 + n_AB*pop[1] - p * pop[1]\n",
    "        \n",
    "        return [dn_Adt,dn_Bdt]\n",
    "        \n",
    "    \n",
    "    if p >= 5/2 - 3/2 * (np.cbrt(5 + np.sqrt(24)) - 1)**2 - 3/2 * (np.cbrt(5 - np.sqrt(24)) - 1)**2:\n",
    "        return (None,None)\n",
    "    \n",
    "    r = (1+p/2)/(np.sqrt(2 - p/2)**3)\n",
    "    t = 8/(9*np.sqrt(3)) + r/6 + np.sqrt(17/81 - 8*r/(9*np.sqrt(3)) - r**2/12)\n",
    "    n_B = t**2 * (4-p)/2\n",
    "    n_A = ((4 - 4*n_B - p)**2 - 9*p**2)/(8*p+16)\n",
    "    \n",
    "    init = [n_A,n_B]\n",
    "    \n",
    "    sol = opt.root(f, init)\n",
    "    return sol.x"
   ]
  },
  {
   "cell_type": "markdown",
   "id": "b4d578ad",
   "metadata": {},
   "source": [
    "Let us compare the approximation with the numerically determined answer."
   ]
  },
  {
   "cell_type": "code",
   "execution_count": 74,
   "id": "2754acdd",
   "metadata": {},
   "outputs": [
    {
     "name": "stdout",
     "output_type": "stream",
     "text": [
      "Approximation: 0.7411317383740974, Numerical: 0.7411776008573454\n"
     ]
    }
   ],
   "source": [
    "p = 0.09\n",
    "r = (1 + p/2)/(np.sqrt(2-p/2)**3)\n",
    "t = 8/(9*np.sqrt(3)) + r/6 + np.sqrt(17/81 - 8*r/(9*np.sqrt(3)) - r**2/12)\n",
    "\n",
    "print(f'Approximation: {t**2 * (4-p)/2}, Numerical: {get_stable_fp(p)[1]}')"
   ]
  },
  {
   "cell_type": "markdown",
   "id": "07955414",
   "metadata": {},
   "source": [
    "For the unstable fixed point, one only needs to change the sign of one of the terms of $t$"
   ]
  },
  {
   "cell_type": "code",
   "execution_count": 75,
   "id": "766e718a",
   "metadata": {},
   "outputs": [],
   "source": [
    "def get_unstable_fp(p):\n",
    "    \"\"\"\n",
    "    Calculates the unstable fixed point (n_A, n_B).\n",
    "    \n",
    "    If the value of p is greater than p_c, then it returns\n",
    "    (None, None)\n",
    "    \"\"\"\n",
    "    \n",
    "    def f(pop):\n",
    "        n_AB = 1 - p - pop[0] - pop[1]\n",
    "        \n",
    "        dn_Adt = -pop[0]*pop[1] + n_AB**2 + n_AB*pop[0] + 3/2*p * n_AB\n",
    "        dn_Bdt = -pop[0]*pop[1] + n_AB**2 + n_AB*pop[1] - p * pop[1]\n",
    "        \n",
    "        return [dn_Adt,dn_Bdt]\n",
    "        \n",
    "    \n",
    "    if p >= 5/2 - 3/2 * (np.cbrt(5 + np.sqrt(24)) - 1)**2 - 3/2 * (np.cbrt(5 - np.sqrt(24)) - 1)**2:\n",
    "        return (None,None)\n",
    "    \n",
    "    r = (1+p/2)/(np.sqrt(2 - p/2)**3)\n",
    "    t = 8/(9*np.sqrt(3)) + r/6 - np.sqrt(17/81 - 8*r/(9*np.sqrt(3)) - r**2/12)\n",
    "    n_B = t**2 * (4-p)/2\n",
    "    n_A = ((4 - 4*n_B - p)**2 - 9*p**2)/(8*p+16)\n",
    "    \n",
    "    init = [n_A,n_B]\n",
    "    \n",
    "    sol = opt.root(f, init)\n",
    "    return sol.x"
   ]
  },
  {
   "cell_type": "markdown",
   "id": "5ff81931",
   "metadata": {},
   "source": [
    "Let us compare the approximation with the numerically determined answer."
   ]
  },
  {
   "cell_type": "code",
   "execution_count": 76,
   "id": "d34e279e",
   "metadata": {},
   "outputs": [
    {
     "name": "stdout",
     "output_type": "stream",
     "text": [
      "Approximation: 0.56612408063064, Numerical: 0.5660821600823112\n"
     ]
    }
   ],
   "source": [
    "p = 0.09\n",
    "r = (1 + p/2)/(np.sqrt(2-p/2)**3)\n",
    "t = 8/(9*np.sqrt(3)) + r/6 - np.sqrt(17/81 - 8*r/(9*np.sqrt(3)) - r**2/12)\n",
    "\n",
    "print(f'Approximation: {t**2 * (4-p)/2}, Numerical: {get_unstable_fp(p)[1]}')"
   ]
  },
  {
   "cell_type": "markdown",
   "id": "4d777d4d",
   "metadata": {},
   "source": [
    "With these, we can do the following now"
   ]
  },
  {
   "cell_type": "code",
   "execution_count": 98,
   "id": "808de031",
   "metadata": {},
   "outputs": [],
   "source": [
    "tot = 10_000\n",
    "p = 0.095\n",
    "AA = int(p*tot)\n",
    "pop = np.array([tot - AA,0,0,AA])   \n",
    "\n",
    "Bsum = 0\n",
    "B_hist = [pop[0]/tot]\n",
    "Bsum += B_hist[-1]\n",
    "Bave_hist = [Bsum]\n",
    "\n",
    "T = 10_000_000\n",
    "for k in range(T):\n",
    "    pop=exchange(pop,tot)\n",
    "    B_hist.append(pop[0]/tot)\n",
    "    Bsum += B_hist[-1]\n",
    "    Bave_hist.append(Bsum/(k+2))"
   ]
  },
  {
   "cell_type": "code",
   "execution_count": 99,
   "id": "708f73a4",
   "metadata": {},
   "outputs": [
    {
     "data": {
      "image/png": "[encoded data removed]",
      "text/plain": [
       "<Figure size 432x288 with 1 Axes>"
      ]
     },
     "metadata": {
      "needs_background": "light"
     },
     "output_type": "display_data"
    },
    {
     "name": "stdout",
     "output_type": "stream",
     "text": [
      "Average value of n_B is 0.7033444182554998\n"
     ]
    },
    {
     "data": {
      "image/png": "[encoded data removed]",
      "text/plain": [
       "<Figure size 432x288 with 1 Axes>"
      ]
     },
     "metadata": {
      "needs_background": "light"
     },
     "output_type": "display_data"
    }
   ],
   "source": [
    "plt.plot(B_hist)\n",
    "plt.axhline(y = get_stable_fp(p)[1], color = 'k')\n",
    "plt.axhline(y = get_unstable_fp(p)[1], color = 'r')\n",
    "plt.show()\n",
    "plt.plot(Bave_hist)\n",
    "plt.axhline(y = get_stable_fp(p)[1], color = 'k')\n",
    "print(f'Average value of n_B is {sum(B_hist)/len(B_hist)}')"
   ]
  },
  {
   "cell_type": "markdown",
   "id": "20a9de49",
   "metadata": {},
   "source": [
    "# <center> Semi-analytical approach </center>\n",
    "\n",
    "Consider given by a pair of number, $(n,m)$, which describes a state where there are $n$ agents $A$ and $m$ agents $B$. Given the number of committed agents $c$, this fully describes the population of agents since the undecided population of agents $AB$ is given by $l = N - n - m - c)$\n",
    "\n",
    "Let $p_{nm}$ be the probability that the population of agents in state $(n,m)$. We may describe the time evolution of this system by considering how neighbouring nodes may populate each state $(n,m)$ and how state $(n,m)$ may populate neighbouring nodes.\n",
    "\n",
    "This is fully determined by enumerating all the valid transition states and their corresponding probabilities\n",
    "\\begin{equation}\n",
    "\\begin{array}{ccc}\n",
    "\\textrm{Transition} & \\textrm{Speaker-Listener pairs} & N^2 \\cdot \\textrm{Probability} \\\\\n",
    "(n,m) \\to (n+1,m) & A \\overset{A}{\\to} AB, AB \\overset{A}{\\to} A & \\dfrac{3}{2} (n+c) \\cdot (l) \\\\\n",
    "(n,m) \\to (n-1,m) & B \\overset{B}{\\to} A, AB \\overset{B}{\\to}{A} & n\\cdot m + \\dfrac{1}{2} n \\cdot{l}\\\\\n",
    "(n,m) \\to (n,m+1) & B \\overset{B}{\\to} AB, AB \\overset{B}{\\to} B & \\dfrac{3}{2} m \\cdot l \\\\\n",
    "(n,m) \\to (n,m-1) & A \\overset{A}{\\to} B, AB \\overset{A}{\\to} B & (n+c)\\cdot m + \\dfrac{1}{2} m \\cdot{l} \\\\\n",
    "(n,m) \\to (n+2,m) & AB \\overset{A}{\\to} AB & \\dfrac{1}{2}l\\cdot(l-1) \\\\\n",
    "(n,m) \\to (n,m+2) & AB \\overset{B}{\\to} AB & \\dfrac{1}{2} l \\cdot (l-1)\n",
    "\\end{array}\n",
    "\\end{equation}\n",
    "\n",
    "We note the following index transformations,\n",
    "\\begin{equation}\n",
    "(m \\to m + k, l \\to l-k), \\qquad (n \\to n + k, l \\to l - k).\n",
    "\\end{equation}\n",
    "\n",
    "Thus, we get\n",
    "\\begin{equation}\n",
    "\\dfrac{d p_{nm}}{dt} \\dfrac{1}{N} = \\dfrac{1}{N^2} \\left( -p_{mn}\\left[ 2( l\\cdot (n+m) + n \\cdot m) + \\dfrac{3}{2} l\\cdot c + l \\cdot (l-1) + m \\cdot c \\right] \\right)\n",
    "\\end{equation}"
   ]
  },
  {
   "cell_type": "code",
   "execution_count": 125,
   "id": "dd91afe8",
   "metadata": {},
   "outputs": [],
   "source": [
    "a = np.array([[1,2,3,4],[4,5,6,7]])"
   ]
  },
  {
   "cell_type": "code",
   "execution_count": 123,
   "id": "0e286749",
   "metadata": {},
   "outputs": [],
   "source": [
    "a[1:] = a[1:]+a[:-1]"
   ]
  },
  {
   "cell_type": "code",
   "execution_count": 127,
   "id": "ae8c639d",
   "metadata": {},
   "outputs": [
    {
     "data": {
      "text/plain": [
       "array([[2, 3, 4],\n",
       "       [5, 6, 7]])"
      ]
     },
     "execution_count": 127,
     "metadata": {},
     "output_type": "execute_result"
    }
   ],
   "source": [
    "a[:,1:]"
   ]
  },
  {
   "cell_type": "code",
   "execution_count": 128,
   "id": "efc8f2a0",
   "metadata": {},
   "outputs": [
    {
     "data": {
      "text/plain": [
       "4"
      ]
     },
     "execution_count": 128,
     "metadata": {},
     "output_type": "execute_result"
    }
   ],
   "source": [
    "a[1,0]"
   ]
  },
  {
   "cell_type": "code",
   "execution_count": null,
   "id": "62a7f4f0",
   "metadata": {},
   "outputs": [],
   "source": []
  }
 ],
 "metadata": {
  "kernelspec": {
   "display_name": "Python 3 (ipykernel)",
   "language": "python",
   "name": "python3"
  },
  "language_info": {
   "codemirror_mode": {
    "name": "ipython",
    "version": 3
   },
   "file_extension": ".py",
   "mimetype": "text/x-python",
   "name": "python",
   "nbconvert_exporter": "python",
   "pygments_lexer": "ipython3",
   "version": "3.8.11"
  }
 },
 "nbformat": 4,
 "nbformat_minor": 5
}
